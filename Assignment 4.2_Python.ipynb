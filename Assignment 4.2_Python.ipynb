{
 "cells": [
  {
   "cell_type": "markdown",
   "metadata": {},
   "source": [
    "You need to submit 3 tree maps, 3 area charts and 3 stacked area charts using Tableau or PowerBI, Python and R using the data below (or your own datasets). You can also submit using D3. You can choose which library to use in Python or R, documentation is provided to help you decide and as you start to play around in the libraries, you will decide which you prefer.\n",
    "\n",
    "### Python"
   ]
  },
  {
   "cell_type": "code",
   "execution_count": 48,
   "metadata": {},
   "outputs": [],
   "source": [
    "# Import libraries\n",
    "import pandas as pd\n",
    "import matplotlib.pyplot as plt\n",
    "import numpy as np\n",
    "import plotly.plotly as py\n",
    "import cufflinks as cf\n",
    "import seaborn as sns"
   ]
  },
  {
   "cell_type": "code",
   "execution_count": 58,
   "metadata": {},
   "outputs": [
    {
     "name": "stdout",
     "output_type": "stream",
     "text": [
      "        state  murder  forcible_rape  robbery  aggravated_assault  burglary  \\\n",
      "1     Alabama     8.2           34.3    141.4               247.8     953.8   \n",
      "2      Alaska     4.8           81.1     80.9               465.1     622.5   \n",
      "3     Arizona     7.5           33.8    144.4               327.4     948.4   \n",
      "4    Arkansas     6.7           42.9     91.1               386.8    1084.6   \n",
      "5  California     6.9           26.0    176.1               317.3     693.3   \n",
      "\n",
      "   larceny_theft  motor_vehicle_theft  population  \n",
      "1         2650.0                288.3     4545049  \n",
      "2         2599.1                391.0      669488  \n",
      "3         2965.2                924.4     5974834  \n",
      "4         2711.2                262.1     2776221  \n",
      "5         1916.5                712.8    35795255  \n"
     ]
    }
   ],
   "source": [
    "# Read world population data\n",
    "dirData = 'ex4-2/'\n",
    "f_crime = 'crimerates-by-state-2005.csv'\n",
    "\n",
    "dir_crime = dirData+f_crime\n",
    "crime = pd.read_csv(dir_crime)\n",
    "crime_state = crime[crime['state']!='United States']\n",
    "\n",
    "print(crime_state.head())"
   ]
  },
  {
   "cell_type": "markdown",
   "metadata": {},
   "source": [
    "### 1. Scatter plot"
   ]
  },
  {
   "cell_type": "code",
   "execution_count": 3,
   "metadata": {},
   "outputs": [
    {
     "data": {
      "image/png": "[encoded data removed]",
      "text/plain": [
       "<Figure size 432x288 with 1 Axes>"
      ]
     },
     "metadata": {},
     "output_type": "display_data"
    }
   ],
   "source": [
    "# Create a scatter plot showing correlation between murder and robbery\n",
    "\n",
    "plt.scatter(x=crime['murder'], y=crime['robbery'],alpha=0.5)\n",
    "plt.title('Correlation between robbery and murder')\n",
    "plt.xlabel('Murder')\n",
    "plt.ylabel('Robbery')\n",
    "plt.show()"
   ]
  },
  {
   "cell_type": "markdown",
   "metadata": {},
   "source": [
    "### 2. Bubble Chart"
   ]
  },
  {
   "cell_type": "code",
   "execution_count": 47,
   "metadata": {
    "scrolled": true
   },
   "outputs": [
    {
     "data": {
      "text/html": [
       "<iframe id=\"igraph\" scrolling=\"no\" style=\"border:none;\" seamless=\"seamless\" src=\"https://plot.ly/~anirbna/1.embed\" height=\"525px\" width=\"100%\"></iframe>"
      ],
      "text/plain": [
       "<chart_studio.tools.PlotlyDisplay object>"
      ]
     },
     "execution_count": 47,
     "metadata": {},
     "output_type": "execute_result"
    }
   ],
   "source": [
    "# For this excercise I used the API service from plotly (https://plot.ly/)\n",
    "# Cufflinks binds plotly to pandas dataframes in IPython notebook\n",
    "# I replaced my username and API for security\n",
    "\n",
    "py.plotly.tools.set_credentials_file(username='username', api_key='apikey')\n",
    "cf.set_config_file(offline=False, world_readable=True, theme='pearl')\n",
    "\n",
    "crime_state.iplot(kind='bubble', x='murder', y='robbery', size='population', text='state',\n",
    "             xTitle='Murder', yTitle='Robbery',\n",
    "             filename='Murder vs Robbery by Population')"
   ]
  },
  {
   "cell_type": "markdown",
   "metadata": {},
   "source": [
    "### 3. Density plot"
   ]
  },
  {
   "cell_type": "code",
   "execution_count": 68,
   "metadata": {},
   "outputs": [
    {
     "name": "stderr",
     "output_type": "stream",
     "text": [
      "c:\\users\\anirban\\appdata\\local\\programs\\python\\python36-32\\lib\\site-packages\\scipy\\stats\\stats.py:1713: FutureWarning:\n",
      "\n",
      "Using a non-tuple sequence for multidimensional indexing is deprecated; use `arr[tuple(seq)]` instead of `arr[seq]`. In the future this will be interpreted as an array index, `arr[np.array(seq)]`, which will result either in an error or a different result.\n",
      "\n"
     ]
    },
    {
     "data": {
      "text/plain": [
       "<matplotlib.axes._subplots.AxesSubplot at 0x14aa0970>"
      ]
     },
     "execution_count": 68,
     "metadata": {},
     "output_type": "execute_result"
    },
    {
     "data": {
      "image/png": "[encoded data removed]",
      "text/plain": [
       "<Figure size 432x288 with 1 Axes>"
      ]
     },
     "metadata": {},
     "output_type": "display_data"
    }
   ],
   "source": [
    "# Plotting distribution of population\n",
    "\n",
    "sns.distplot(crime_state['population'], hist = False, kde = True,\n",
    "                 kde_kws = {'shade': True, 'linewidth': 3})"
   ]
  },
  {
   "cell_type": "markdown",
   "metadata": {},
   "source": [
    "**End of code**"
   ]
  }
 ],
 "metadata": {
  "kernelspec": {
   "display_name": "Python 3",
   "language": "python",
   "name": "python3"
  },
  "language_info": {
   "codemirror_mode": {
    "name": "ipython",
    "version": 3
   },
   "file_extension": ".py",
   "mimetype": "text/x-python",
   "name": "python",
   "nbconvert_exporter": "python",
   "pygments_lexer": "ipython3",
   "version": "3.6.4"
  }
 },
 "nbformat": 4,
 "nbformat_minor": 2
}
